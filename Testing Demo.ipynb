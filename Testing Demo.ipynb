{
 "cells": [
  {
   "cell_type": "code",
   "execution_count": null,
   "metadata": {},
   "outputs": [],
   "source": [
    "import numpy as np\n",
    "from itertools import combinations\n",
    "from scipy.special import comb\n",
    "from collections import defaultdict, OrderedDict\n",
    "import importlib\n",
    "import better_pool_generator"
   ]
  },
  {
   "cell_type": "markdown",
   "metadata": {},
   "source": [
    "PoolGenerator helps to find a good testing for a given number of samples and pools, allowing you to run minimal tests in order to establish which individuals are positive."
   ]
  },
  {
   "cell_type": "markdown",
   "metadata": {},
   "source": [
    "Let's start with a simple scenario in which we have only 15 samples and 6 pools.  "
   ]
  },
  {
   "cell_type": "code",
   "execution_count": null,
   "metadata": {},
   "outputs": [],
   "source": [
    "importlib.reload(better_pool_generator)\n",
    "PG = better_pool_generator.PoolGenerator(num_samples=15, num_pools=6)\n",
    "pools = PG.get_pools()\n",
    "for p in pools:\n",
    "    print(p, pools[p])"
   ]
  },
  {
   "cell_type": "markdown",
   "metadata": {},
   "source": [
    "This gives each of the 6 pools (indexed 0 through 5) with the sample IDs that should be included.  So the first pool should have parts of samples:"
   ]
  },
  {
   "cell_type": "code",
   "execution_count": null,
   "metadata": {},
   "outputs": [],
   "source": [
    "pools[0]"
   ]
  },
  {
   "cell_type": "markdown",
   "metadata": {},
   "source": [
    "Notice that each sample is in 2 pools.  We could also have found that out directly"
   ]
  },
  {
   "cell_type": "code",
   "execution_count": null,
   "metadata": {},
   "outputs": [],
   "source": [
    "PG.show_stats()"
   ]
  },
  {
   "cell_type": "markdown",
   "metadata": {},
   "source": [
    "This also shows that all pools are exactly the same size.  This won't usually happen, but they should be close to the same size--even without round numbers."
   ]
  },
  {
   "cell_type": "markdown",
   "metadata": {},
   "source": [
    "# Almost the real deal"
   ]
  },
  {
   "cell_type": "markdown",
   "metadata": {},
   "source": [
    "Let's do a less trivial example with 192 samples and 12 pools."
   ]
  },
  {
   "cell_type": "code",
   "execution_count": null,
   "metadata": {},
   "outputs": [],
   "source": [
    "PG = better_pool_generator.PoolGenerator(num_samples=192, num_pools=12)\n",
    "pools = PG.get_pools()\n",
    "for p in pools:\n",
    "    print(p, pools[p])"
   ]
  },
  {
   "cell_type": "markdown",
   "metadata": {},
   "source": [
    "ok, it's harder to read with that many samples, so let's check the stats."
   ]
  },
  {
   "cell_type": "code",
   "execution_count": null,
   "metadata": {},
   "outputs": [],
   "source": [
    "PG.show_stats()"
   ]
  },
  {
   "cell_type": "markdown",
   "metadata": {},
   "source": [
    "This time we did have a bit of variability in pool sizes, but not too much."
   ]
  },
  {
   "cell_type": "markdown",
   "metadata": {},
   "source": [
    "# The real deal"
   ]
  },
  {
   "cell_type": "markdown",
   "metadata": {},
   "source": [
    "OK, now let's give it an impossible task--where there are too many tests to uniquely identify them just from testing the pools and see how close it does."
   ]
  },
  {
   "cell_type": "markdown",
   "metadata": {},
   "source": [
    "This time, we'll also specify how many pools each sample should be in.  We might want to avoid diluting them too much."
   ]
  },
  {
   "cell_type": "code",
   "execution_count": null,
   "metadata": {
    "scrolled": true
   },
   "outputs": [],
   "source": [
    "importlib.reload(better_pool_generator)\n",
    "PG2 = better_pool_generator.PoolGenerator(num_samples=300, num_pools=12, pools_per_sample=3)\n",
    "pools = PG2.get_pools();\n",
    "PG2.show_stats()"
   ]
  },
  {
   "cell_type": "code",
   "execution_count": null,
   "metadata": {},
   "outputs": [],
   "source": [
    "for p in pools:\n",
    "    print(p, pools[p])"
   ]
  },
  {
   "cell_type": "markdown",
   "metadata": {},
   "source": [
    "Let's throw a bigger example at it to see the speed.  None of the code is highly optimized."
   ]
  },
  {
   "cell_type": "code",
   "execution_count": 50,
   "metadata": {},
   "outputs": [
    {
     "name": "stdout",
     "output_type": "stream",
     "text": [
      "We placed each sample in 4 pools.\n",
      "\n",
      "With this arrangement, we might need up to 0 follow up tests for each pool that is positive\n",
      "\n",
      "The pool sizes range from 520 to 521, with an average of 520.8\n"
     ]
    }
   ],
   "source": [
    "importlib.reload(better_pool_generator)\n",
    "PG2 = better_pool_generator.PoolGenerator(num_samples=3000, num_pools=25, pools_per_sample=4)\n",
    "pools = PG2.get_pools();\n",
    "PG2.show_stats()"
   ]
  },
  {
   "cell_type": "code",
   "execution_count": null,
   "metadata": {},
   "outputs": [],
   "source": []
  }
 ],
 "metadata": {
  "kernelspec": {
   "display_name": "Python 3",
   "language": "python",
   "name": "python3"
  },
  "language_info": {
   "codemirror_mode": {
    "name": "ipython",
    "version": 3
   },
   "file_extension": ".py",
   "mimetype": "text/x-python",
   "name": "python",
   "nbconvert_exporter": "python",
   "pygments_lexer": "ipython3",
   "version": "3.8.3"
  }
 },
 "nbformat": 4,
 "nbformat_minor": 4
}
